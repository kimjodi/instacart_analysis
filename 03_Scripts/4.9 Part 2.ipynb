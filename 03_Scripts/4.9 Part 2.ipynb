{
 "cells": [
  {
   "cell_type": "markdown",
   "id": "53d880f9",
   "metadata": {},
   "source": [
    "# 4.9 Into to Data Viz with Python: Part 2"
   ]
  },
  {
   "cell_type": "markdown",
   "id": "5ac62515",
   "metadata": {},
   "source": [
    "### This script contains the following points:\n",
    "    01. Importing libraries & data\n",
    "    02. Create bar chart, histogram, scatterplot\n",
    "    03. Sampling data for line chart\n",
    "    04. Answers to questions Q2 - Q7\n",
    "    05. Export visualizations"
   ]
  },
  {
   "cell_type": "markdown",
   "id": "59643396",
   "metadata": {},
   "source": [
    "## 01. Import libraries and data"
   ]
  },
  {
   "cell_type": "code",
   "execution_count": 1,
   "id": "5ad31b92",
   "metadata": {},
   "outputs": [],
   "source": [
    "# Import libraries\n",
    "\n",
    "import pandas as pd\n",
    "import numpy as np\n",
    "import os\n",
    "import matplotlib.pyplot as plt\n",
    "import seaborn as sns\n",
    "import scipy"
   ]
  },
  {
   "cell_type": "code",
   "execution_count": 2,
   "id": "9961e5e7",
   "metadata": {},
   "outputs": [],
   "source": [
    "path = r'/Users/jodikim/I0_2022_Instacart_Analysis'"
   ]
  },
  {
   "cell_type": "code",
   "execution_count": 3,
   "id": "ccd7cb7a",
   "metadata": {},
   "outputs": [],
   "source": [
    "# Importing orders_products_customers_merged\n",
    "df_ords_prods_cust_merged = pd.read_pickle(os.path.join(path, '02_Data', 'Prepared_Data', 'orders_products_customers_merged.pkl'))"
   ]
  },
  {
   "cell_type": "code",
   "execution_count": 4,
   "id": "c800dcbd",
   "metadata": {},
   "outputs": [
    {
     "data": {
      "text/html": [
       "<div>\n",
       "<style scoped>\n",
       "    .dataframe tbody tr th:only-of-type {\n",
       "        vertical-align: middle;\n",
       "    }\n",
       "\n",
       "    .dataframe tbody tr th {\n",
       "        vertical-align: top;\n",
       "    }\n",
       "\n",
       "    .dataframe thead th {\n",
       "        text-align: right;\n",
       "    }\n",
       "</style>\n",
       "<table border=\"1\" class=\"dataframe\">\n",
       "  <thead>\n",
       "    <tr style=\"text-align: right;\">\n",
       "      <th></th>\n",
       "      <th>order_id</th>\n",
       "      <th>user_id</th>\n",
       "      <th>order_number</th>\n",
       "      <th>orders_day_of_week</th>\n",
       "      <th>order_hour_of_day</th>\n",
       "      <th>days_since_prior_order</th>\n",
       "      <th>new_customer</th>\n",
       "      <th>product_id</th>\n",
       "      <th>add_to_cart_order</th>\n",
       "      <th>reordered</th>\n",
       "      <th>...</th>\n",
       "      <th>first_name</th>\n",
       "      <th>last_name</th>\n",
       "      <th>gender</th>\n",
       "      <th>state</th>\n",
       "      <th>age</th>\n",
       "      <th>date_joined</th>\n",
       "      <th>n_dependants</th>\n",
       "      <th>fam_status</th>\n",
       "      <th>income</th>\n",
       "      <th>_merge</th>\n",
       "    </tr>\n",
       "  </thead>\n",
       "  <tbody>\n",
       "    <tr>\n",
       "      <th>0</th>\n",
       "      <td>2539329</td>\n",
       "      <td>1</td>\n",
       "      <td>1</td>\n",
       "      <td>2</td>\n",
       "      <td>8</td>\n",
       "      <td>NaN</td>\n",
       "      <td>True</td>\n",
       "      <td>196</td>\n",
       "      <td>1</td>\n",
       "      <td>0</td>\n",
       "      <td>...</td>\n",
       "      <td>Linda</td>\n",
       "      <td>Nguyen</td>\n",
       "      <td>Female</td>\n",
       "      <td>Alabama</td>\n",
       "      <td>31</td>\n",
       "      <td>2/17/2019</td>\n",
       "      <td>3</td>\n",
       "      <td>married</td>\n",
       "      <td>40423</td>\n",
       "      <td>both</td>\n",
       "    </tr>\n",
       "    <tr>\n",
       "      <th>1</th>\n",
       "      <td>2398795</td>\n",
       "      <td>1</td>\n",
       "      <td>2</td>\n",
       "      <td>3</td>\n",
       "      <td>7</td>\n",
       "      <td>15.0</td>\n",
       "      <td>False</td>\n",
       "      <td>196</td>\n",
       "      <td>1</td>\n",
       "      <td>1</td>\n",
       "      <td>...</td>\n",
       "      <td>Linda</td>\n",
       "      <td>Nguyen</td>\n",
       "      <td>Female</td>\n",
       "      <td>Alabama</td>\n",
       "      <td>31</td>\n",
       "      <td>2/17/2019</td>\n",
       "      <td>3</td>\n",
       "      <td>married</td>\n",
       "      <td>40423</td>\n",
       "      <td>both</td>\n",
       "    </tr>\n",
       "    <tr>\n",
       "      <th>2</th>\n",
       "      <td>473747</td>\n",
       "      <td>1</td>\n",
       "      <td>3</td>\n",
       "      <td>3</td>\n",
       "      <td>12</td>\n",
       "      <td>21.0</td>\n",
       "      <td>False</td>\n",
       "      <td>196</td>\n",
       "      <td>1</td>\n",
       "      <td>1</td>\n",
       "      <td>...</td>\n",
       "      <td>Linda</td>\n",
       "      <td>Nguyen</td>\n",
       "      <td>Female</td>\n",
       "      <td>Alabama</td>\n",
       "      <td>31</td>\n",
       "      <td>2/17/2019</td>\n",
       "      <td>3</td>\n",
       "      <td>married</td>\n",
       "      <td>40423</td>\n",
       "      <td>both</td>\n",
       "    </tr>\n",
       "    <tr>\n",
       "      <th>3</th>\n",
       "      <td>2254736</td>\n",
       "      <td>1</td>\n",
       "      <td>4</td>\n",
       "      <td>4</td>\n",
       "      <td>7</td>\n",
       "      <td>29.0</td>\n",
       "      <td>False</td>\n",
       "      <td>196</td>\n",
       "      <td>1</td>\n",
       "      <td>1</td>\n",
       "      <td>...</td>\n",
       "      <td>Linda</td>\n",
       "      <td>Nguyen</td>\n",
       "      <td>Female</td>\n",
       "      <td>Alabama</td>\n",
       "      <td>31</td>\n",
       "      <td>2/17/2019</td>\n",
       "      <td>3</td>\n",
       "      <td>married</td>\n",
       "      <td>40423</td>\n",
       "      <td>both</td>\n",
       "    </tr>\n",
       "    <tr>\n",
       "      <th>4</th>\n",
       "      <td>431534</td>\n",
       "      <td>1</td>\n",
       "      <td>5</td>\n",
       "      <td>4</td>\n",
       "      <td>15</td>\n",
       "      <td>28.0</td>\n",
       "      <td>False</td>\n",
       "      <td>196</td>\n",
       "      <td>1</td>\n",
       "      <td>1</td>\n",
       "      <td>...</td>\n",
       "      <td>Linda</td>\n",
       "      <td>Nguyen</td>\n",
       "      <td>Female</td>\n",
       "      <td>Alabama</td>\n",
       "      <td>31</td>\n",
       "      <td>2/17/2019</td>\n",
       "      <td>3</td>\n",
       "      <td>married</td>\n",
       "      <td>40423</td>\n",
       "      <td>both</td>\n",
       "    </tr>\n",
       "  </tbody>\n",
       "</table>\n",
       "<p>5 rows × 33 columns</p>\n",
       "</div>"
      ],
      "text/plain": [
       "   order_id  user_id  order_number  orders_day_of_week  order_hour_of_day  \\\n",
       "0   2539329        1             1                   2                  8   \n",
       "1   2398795        1             2                   3                  7   \n",
       "2    473747        1             3                   3                 12   \n",
       "3   2254736        1             4                   4                  7   \n",
       "4    431534        1             5                   4                 15   \n",
       "\n",
       "   days_since_prior_order  new_customer  product_id  add_to_cart_order  \\\n",
       "0                     NaN          True         196                  1   \n",
       "1                    15.0         False         196                  1   \n",
       "2                    21.0         False         196                  1   \n",
       "3                    29.0         False         196                  1   \n",
       "4                    28.0         False         196                  1   \n",
       "\n",
       "   reordered  ... first_name  last_name  gender    state age date_joined  \\\n",
       "0          0  ...      Linda     Nguyen  Female  Alabama  31   2/17/2019   \n",
       "1          1  ...      Linda     Nguyen  Female  Alabama  31   2/17/2019   \n",
       "2          1  ...      Linda     Nguyen  Female  Alabama  31   2/17/2019   \n",
       "3          1  ...      Linda     Nguyen  Female  Alabama  31   2/17/2019   \n",
       "4          1  ...      Linda     Nguyen  Female  Alabama  31   2/17/2019   \n",
       "\n",
       "   n_dependants fam_status  income _merge  \n",
       "0             3    married   40423   both  \n",
       "1             3    married   40423   both  \n",
       "2             3    married   40423   both  \n",
       "3             3    married   40423   both  \n",
       "4             3    married   40423   both  \n",
       "\n",
       "[5 rows x 33 columns]"
      ]
     },
     "execution_count": 4,
     "metadata": {},
     "output_type": "execute_result"
    }
   ],
   "source": [
    "df_ords_prods_cust_merged.head()"
   ]
  },
  {
   "cell_type": "code",
   "execution_count": 5,
   "id": "6eb3751e",
   "metadata": {},
   "outputs": [
    {
     "data": {
      "text/html": [
       "<div>\n",
       "<style scoped>\n",
       "    .dataframe tbody tr th:only-of-type {\n",
       "        vertical-align: middle;\n",
       "    }\n",
       "\n",
       "    .dataframe tbody tr th {\n",
       "        vertical-align: top;\n",
       "    }\n",
       "\n",
       "    .dataframe thead th {\n",
       "        text-align: right;\n",
       "    }\n",
       "</style>\n",
       "<table border=\"1\" class=\"dataframe\">\n",
       "  <thead>\n",
       "    <tr style=\"text-align: right;\">\n",
       "      <th></th>\n",
       "      <th>order_id</th>\n",
       "      <th>user_id</th>\n",
       "      <th>order_number</th>\n",
       "      <th>orders_day_of_week</th>\n",
       "      <th>order_hour_of_day</th>\n",
       "      <th>days_since_prior_order</th>\n",
       "      <th>new_customer</th>\n",
       "      <th>product_id</th>\n",
       "      <th>add_to_cart_order</th>\n",
       "      <th>reordered</th>\n",
       "      <th>...</th>\n",
       "      <th>first_name</th>\n",
       "      <th>last_name</th>\n",
       "      <th>gender</th>\n",
       "      <th>state</th>\n",
       "      <th>age</th>\n",
       "      <th>date_joined</th>\n",
       "      <th>n_dependants</th>\n",
       "      <th>fam_status</th>\n",
       "      <th>income</th>\n",
       "      <th>_merge</th>\n",
       "    </tr>\n",
       "  </thead>\n",
       "  <tbody>\n",
       "    <tr>\n",
       "      <th>32404854</th>\n",
       "      <td>156685</td>\n",
       "      <td>106143</td>\n",
       "      <td>26</td>\n",
       "      <td>4</td>\n",
       "      <td>23</td>\n",
       "      <td>5.0</td>\n",
       "      <td>False</td>\n",
       "      <td>19675</td>\n",
       "      <td>1</td>\n",
       "      <td>1</td>\n",
       "      <td>...</td>\n",
       "      <td>Gerald</td>\n",
       "      <td>Yates</td>\n",
       "      <td>Male</td>\n",
       "      <td>Hawaii</td>\n",
       "      <td>25</td>\n",
       "      <td>5/26/2017</td>\n",
       "      <td>0</td>\n",
       "      <td>single</td>\n",
       "      <td>53755</td>\n",
       "      <td>both</td>\n",
       "    </tr>\n",
       "    <tr>\n",
       "      <th>32404855</th>\n",
       "      <td>484769</td>\n",
       "      <td>66343</td>\n",
       "      <td>1</td>\n",
       "      <td>6</td>\n",
       "      <td>11</td>\n",
       "      <td>NaN</td>\n",
       "      <td>True</td>\n",
       "      <td>47210</td>\n",
       "      <td>1</td>\n",
       "      <td>0</td>\n",
       "      <td>...</td>\n",
       "      <td>Jacqueline</td>\n",
       "      <td>Arroyo</td>\n",
       "      <td>Female</td>\n",
       "      <td>Tennessee</td>\n",
       "      <td>22</td>\n",
       "      <td>9/12/2017</td>\n",
       "      <td>3</td>\n",
       "      <td>married</td>\n",
       "      <td>46151</td>\n",
       "      <td>both</td>\n",
       "    </tr>\n",
       "    <tr>\n",
       "      <th>32404856</th>\n",
       "      <td>1561557</td>\n",
       "      <td>66343</td>\n",
       "      <td>2</td>\n",
       "      <td>1</td>\n",
       "      <td>11</td>\n",
       "      <td>30.0</td>\n",
       "      <td>False</td>\n",
       "      <td>47210</td>\n",
       "      <td>1</td>\n",
       "      <td>1</td>\n",
       "      <td>...</td>\n",
       "      <td>Jacqueline</td>\n",
       "      <td>Arroyo</td>\n",
       "      <td>Female</td>\n",
       "      <td>Tennessee</td>\n",
       "      <td>22</td>\n",
       "      <td>9/12/2017</td>\n",
       "      <td>3</td>\n",
       "      <td>married</td>\n",
       "      <td>46151</td>\n",
       "      <td>both</td>\n",
       "    </tr>\n",
       "    <tr>\n",
       "      <th>32404857</th>\n",
       "      <td>276317</td>\n",
       "      <td>66343</td>\n",
       "      <td>3</td>\n",
       "      <td>6</td>\n",
       "      <td>15</td>\n",
       "      <td>19.0</td>\n",
       "      <td>False</td>\n",
       "      <td>47210</td>\n",
       "      <td>1</td>\n",
       "      <td>1</td>\n",
       "      <td>...</td>\n",
       "      <td>Jacqueline</td>\n",
       "      <td>Arroyo</td>\n",
       "      <td>Female</td>\n",
       "      <td>Tennessee</td>\n",
       "      <td>22</td>\n",
       "      <td>9/12/2017</td>\n",
       "      <td>3</td>\n",
       "      <td>married</td>\n",
       "      <td>46151</td>\n",
       "      <td>both</td>\n",
       "    </tr>\n",
       "    <tr>\n",
       "      <th>32404858</th>\n",
       "      <td>2922475</td>\n",
       "      <td>66343</td>\n",
       "      <td>4</td>\n",
       "      <td>1</td>\n",
       "      <td>12</td>\n",
       "      <td>30.0</td>\n",
       "      <td>False</td>\n",
       "      <td>47210</td>\n",
       "      <td>1</td>\n",
       "      <td>1</td>\n",
       "      <td>...</td>\n",
       "      <td>Jacqueline</td>\n",
       "      <td>Arroyo</td>\n",
       "      <td>Female</td>\n",
       "      <td>Tennessee</td>\n",
       "      <td>22</td>\n",
       "      <td>9/12/2017</td>\n",
       "      <td>3</td>\n",
       "      <td>married</td>\n",
       "      <td>46151</td>\n",
       "      <td>both</td>\n",
       "    </tr>\n",
       "  </tbody>\n",
       "</table>\n",
       "<p>5 rows × 33 columns</p>\n",
       "</div>"
      ],
      "text/plain": [
       "          order_id  user_id  order_number  orders_day_of_week  \\\n",
       "32404854    156685   106143            26                   4   \n",
       "32404855    484769    66343             1                   6   \n",
       "32404856   1561557    66343             2                   1   \n",
       "32404857    276317    66343             3                   6   \n",
       "32404858   2922475    66343             4                   1   \n",
       "\n",
       "          order_hour_of_day  days_since_prior_order  new_customer  product_id  \\\n",
       "32404854                 23                     5.0         False       19675   \n",
       "32404855                 11                     NaN          True       47210   \n",
       "32404856                 11                    30.0         False       47210   \n",
       "32404857                 15                    19.0         False       47210   \n",
       "32404858                 12                    30.0         False       47210   \n",
       "\n",
       "          add_to_cart_order  reordered  ...  first_name  last_name  gender  \\\n",
       "32404854                  1          1  ...      Gerald      Yates    Male   \n",
       "32404855                  1          0  ...  Jacqueline     Arroyo  Female   \n",
       "32404856                  1          1  ...  Jacqueline     Arroyo  Female   \n",
       "32404857                  1          1  ...  Jacqueline     Arroyo  Female   \n",
       "32404858                  1          1  ...  Jacqueline     Arroyo  Female   \n",
       "\n",
       "              state age date_joined  n_dependants fam_status  income _merge  \n",
       "32404854     Hawaii  25   5/26/2017             0     single   53755   both  \n",
       "32404855  Tennessee  22   9/12/2017             3    married   46151   both  \n",
       "32404856  Tennessee  22   9/12/2017             3    married   46151   both  \n",
       "32404857  Tennessee  22   9/12/2017             3    married   46151   both  \n",
       "32404858  Tennessee  22   9/12/2017             3    married   46151   both  \n",
       "\n",
       "[5 rows x 33 columns]"
      ]
     },
     "execution_count": 5,
     "metadata": {},
     "output_type": "execute_result"
    }
   ],
   "source": [
    "df_ords_prods_cust_merged.tail()"
   ]
  },
  {
   "cell_type": "code",
   "execution_count": 6,
   "id": "bfdb1781",
   "metadata": {},
   "outputs": [
    {
     "data": {
      "text/plain": [
       "(32404859, 33)"
      ]
     },
     "execution_count": 6,
     "metadata": {},
     "output_type": "execute_result"
    }
   ],
   "source": [
    "df_ords_prods_cust_merged.shape"
   ]
  },
  {
   "cell_type": "code",
   "execution_count": 7,
   "id": "8882a976",
   "metadata": {},
   "outputs": [
    {
     "data": {
      "text/plain": [
       "Index(['order_id', 'user_id', 'order_number', 'orders_day_of_week',\n",
       "       'order_hour_of_day', 'days_since_prior_order', 'new_customer',\n",
       "       'product_id', 'add_to_cart_order', 'reordered', 'product_name',\n",
       "       'aisle_id', 'department_id', 'prices', 'price_range',\n",
       "       'busiest_period_of_day', 'max_order', 'loyalty_flag', 'user_spending',\n",
       "       'spending_flag', 'median_prior_order', 'order_frequency_flag',\n",
       "       'busiest_days', 'first_name', 'last_name', 'gender', 'state', 'age',\n",
       "       'date_joined', 'n_dependants', 'fam_status', 'income', '_merge'],\n",
       "      dtype='object')"
      ]
     },
     "execution_count": 7,
     "metadata": {},
     "output_type": "execute_result"
    }
   ],
   "source": [
    "df_ords_prods_cust_merged.columns"
   ]
  },
  {
   "cell_type": "markdown",
   "id": "0cce98d2",
   "metadata": {},
   "source": [
    "### 02. follow the instructions in the Exercise to create a bar chart, a histogram, a scatterplot, and a line chart, using a sample subset for the line chart."
   ]
  },
  {
   "cell_type": "code",
   "execution_count": 8,
   "id": "890bd49a",
   "metadata": {},
   "outputs": [
    {
     "data": {
      "text/plain": [
       "<AxesSubplot:>"
      ]
     },
     "execution_count": 8,
     "metadata": {},
     "output_type": "execute_result"
    },
    {
     "data": {
      "image/png": "[encoded data removed]",
      "text/plain": [
       "<Figure size 432x288 with 1 Axes>"
      ]
     },
     "metadata": {
      "needs_background": "light"
     },
     "output_type": "display_data"
    }
   ],
   "source": [
    "# Creating bar chart\n",
    "df_ords_prods_cust_merged['orders_day_of_week'].value_counts().plot.bar()"
   ]
  },
  {
   "cell_type": "code",
   "execution_count": 9,
   "id": "0cb2be15",
   "metadata": {},
   "outputs": [
    {
     "data": {
      "image/png": "[encoded data removed]",
      "text/plain": [
       "<Figure size 432x288 with 1 Axes>"
      ]
     },
     "metadata": {
      "needs_background": "light"
     },
     "output_type": "display_data"
    }
   ],
   "source": [
    "# Creating bar chart with color\n",
    "bar = df_ords_prods_cust_merged['orders_day_of_week'].value_counts().plot.bar(color =['purple', 'red', 'pink', 'orange', 'yellow', 'green', 'blue'])"
   ]
  },
  {
   "cell_type": "code",
   "execution_count": 10,
   "id": "62d29603",
   "metadata": {},
   "outputs": [
    {
     "data": {
      "text/plain": [
       "<AxesSubplot:ylabel='Frequency'>"
      ]
     },
     "execution_count": 10,
     "metadata": {},
     "output_type": "execute_result"
    },
    {
     "data": {
      "image/png": "[encoded data removed]",
      "text/plain": [
       "<Figure size 432x288 with 1 Axes>"
      ]
     },
     "metadata": {
      "needs_background": "light"
     },
     "output_type": "display_data"
    }
   ],
   "source": [
    "# Creating a histogram\n",
    "df_ords_prods_cust_merged['prices'].plot.hist(bins = 25)"
   ]
  },
  {
   "cell_type": "code",
   "execution_count": 11,
   "id": "eb6b06ed",
   "metadata": {},
   "outputs": [
    {
     "data": {
      "text/plain": [
       "count    3.240486e+07\n",
       "mean     1.198023e+01\n",
       "std      4.956554e+02\n",
       "min      1.000000e+00\n",
       "25%      4.200000e+00\n",
       "50%      7.400000e+00\n",
       "75%      1.130000e+01\n",
       "max      9.999900e+04\n",
       "Name: prices, dtype: float64"
      ]
     },
     "execution_count": 11,
     "metadata": {},
     "output_type": "execute_result"
    }
   ],
   "source": [
    "df_ords_prods_cust_merged['prices'].describe()"
   ]
  },
  {
   "cell_type": "code",
   "execution_count": 12,
   "id": "f3798ef6",
   "metadata": {},
   "outputs": [
    {
     "data": {
      "text/plain": [
       "99999.0"
      ]
     },
     "execution_count": 12,
     "metadata": {},
     "output_type": "execute_result"
    }
   ],
   "source": [
    "df_ords_prods_cust_merged['prices'].max()"
   ]
  },
  {
   "cell_type": "code",
   "execution_count": 13,
   "id": "3a3dd38c",
   "metadata": {},
   "outputs": [
    {
     "data": {
      "text/plain": [
       "<AxesSubplot:xlabel='prices', ylabel='prices'>"
      ]
     },
     "execution_count": 13,
     "metadata": {},
     "output_type": "execute_result"
    },
    {
     "data": {
      "image/png": "[encoded data removed]",
      "text/plain": [
       "<Figure size 432x288 with 1 Axes>"
      ]
     },
     "metadata": {
      "needs_background": "light"
     },
     "output_type": "display_data"
    }
   ],
   "source": [
    "# Create scatterplot\n",
    "sns.scatterplot(x = 'prices', y = 'prices',data = df_ords_prods_cust_merged)"
   ]
  },
  {
   "cell_type": "code",
   "execution_count": 14,
   "id": "d7c1a66d",
   "metadata": {},
   "outputs": [
    {
     "data": {
      "text/html": [
       "<div>\n",
       "<style scoped>\n",
       "    .dataframe tbody tr th:only-of-type {\n",
       "        vertical-align: middle;\n",
       "    }\n",
       "\n",
       "    .dataframe tbody tr th {\n",
       "        vertical-align: top;\n",
       "    }\n",
       "\n",
       "    .dataframe thead th {\n",
       "        text-align: right;\n",
       "    }\n",
       "</style>\n",
       "<table border=\"1\" class=\"dataframe\">\n",
       "  <thead>\n",
       "    <tr style=\"text-align: right;\">\n",
       "      <th></th>\n",
       "      <th>order_id</th>\n",
       "      <th>user_id</th>\n",
       "      <th>order_number</th>\n",
       "      <th>orders_day_of_week</th>\n",
       "      <th>order_hour_of_day</th>\n",
       "      <th>days_since_prior_order</th>\n",
       "      <th>new_customer</th>\n",
       "      <th>product_id</th>\n",
       "      <th>add_to_cart_order</th>\n",
       "      <th>reordered</th>\n",
       "      <th>...</th>\n",
       "      <th>first_name</th>\n",
       "      <th>last_name</th>\n",
       "      <th>gender</th>\n",
       "      <th>state</th>\n",
       "      <th>age</th>\n",
       "      <th>date_joined</th>\n",
       "      <th>n_dependants</th>\n",
       "      <th>fam_status</th>\n",
       "      <th>income</th>\n",
       "      <th>_merge</th>\n",
       "    </tr>\n",
       "  </thead>\n",
       "  <tbody>\n",
       "    <tr>\n",
       "      <th>7805</th>\n",
       "      <td>1435153</td>\n",
       "      <td>1519</td>\n",
       "      <td>26</td>\n",
       "      <td>2</td>\n",
       "      <td>11</td>\n",
       "      <td>6.0</td>\n",
       "      <td>False</td>\n",
       "      <td>21553</td>\n",
       "      <td>15</td>\n",
       "      <td>0</td>\n",
       "      <td>...</td>\n",
       "      <td>Craig</td>\n",
       "      <td>Clark</td>\n",
       "      <td>Male</td>\n",
       "      <td>Rhode Island</td>\n",
       "      <td>68</td>\n",
       "      <td>3/4/2020</td>\n",
       "      <td>0</td>\n",
       "      <td>divorced/widowed</td>\n",
       "      <td>177864</td>\n",
       "      <td>both</td>\n",
       "    </tr>\n",
       "    <tr>\n",
       "      <th>7806</th>\n",
       "      <td>1066435</td>\n",
       "      <td>1519</td>\n",
       "      <td>32</td>\n",
       "      <td>3</td>\n",
       "      <td>10</td>\n",
       "      <td>5.0</td>\n",
       "      <td>False</td>\n",
       "      <td>21553</td>\n",
       "      <td>28</td>\n",
       "      <td>1</td>\n",
       "      <td>...</td>\n",
       "      <td>Craig</td>\n",
       "      <td>Clark</td>\n",
       "      <td>Male</td>\n",
       "      <td>Rhode Island</td>\n",
       "      <td>68</td>\n",
       "      <td>3/4/2020</td>\n",
       "      <td>0</td>\n",
       "      <td>divorced/widowed</td>\n",
       "      <td>177864</td>\n",
       "      <td>both</td>\n",
       "    </tr>\n",
       "    <tr>\n",
       "      <th>15143</th>\n",
       "      <td>1697208</td>\n",
       "      <td>2409</td>\n",
       "      <td>33</td>\n",
       "      <td>1</td>\n",
       "      <td>19</td>\n",
       "      <td>5.0</td>\n",
       "      <td>False</td>\n",
       "      <td>21553</td>\n",
       "      <td>1</td>\n",
       "      <td>0</td>\n",
       "      <td>...</td>\n",
       "      <td>Nicole</td>\n",
       "      <td>Odonnell</td>\n",
       "      <td>Female</td>\n",
       "      <td>Hawaii</td>\n",
       "      <td>55</td>\n",
       "      <td>11/11/2018</td>\n",
       "      <td>2</td>\n",
       "      <td>married</td>\n",
       "      <td>230074</td>\n",
       "      <td>both</td>\n",
       "    </tr>\n",
       "    <tr>\n",
       "      <th>20264</th>\n",
       "      <td>965345</td>\n",
       "      <td>3531</td>\n",
       "      <td>27</td>\n",
       "      <td>2</td>\n",
       "      <td>19</td>\n",
       "      <td>8.0</td>\n",
       "      <td>False</td>\n",
       "      <td>33664</td>\n",
       "      <td>2</td>\n",
       "      <td>0</td>\n",
       "      <td>...</td>\n",
       "      <td>Alice</td>\n",
       "      <td>Compton</td>\n",
       "      <td>Female</td>\n",
       "      <td>Hawaii</td>\n",
       "      <td>80</td>\n",
       "      <td>10/6/2019</td>\n",
       "      <td>2</td>\n",
       "      <td>married</td>\n",
       "      <td>233776</td>\n",
       "      <td>both</td>\n",
       "    </tr>\n",
       "    <tr>\n",
       "      <th>20497</th>\n",
       "      <td>2943740</td>\n",
       "      <td>3793</td>\n",
       "      <td>1</td>\n",
       "      <td>2</td>\n",
       "      <td>9</td>\n",
       "      <td>NaN</td>\n",
       "      <td>True</td>\n",
       "      <td>21553</td>\n",
       "      <td>3</td>\n",
       "      <td>0</td>\n",
       "      <td>...</td>\n",
       "      <td>Jerry</td>\n",
       "      <td>Allen</td>\n",
       "      <td>Male</td>\n",
       "      <td>Louisiana</td>\n",
       "      <td>59</td>\n",
       "      <td>8/23/2019</td>\n",
       "      <td>3</td>\n",
       "      <td>married</td>\n",
       "      <td>182933</td>\n",
       "      <td>both</td>\n",
       "    </tr>\n",
       "    <tr>\n",
       "      <th>...</th>\n",
       "      <td>...</td>\n",
       "      <td>...</td>\n",
       "      <td>...</td>\n",
       "      <td>...</td>\n",
       "      <td>...</td>\n",
       "      <td>...</td>\n",
       "      <td>...</td>\n",
       "      <td>...</td>\n",
       "      <td>...</td>\n",
       "      <td>...</td>\n",
       "      <td>...</td>\n",
       "      <td>...</td>\n",
       "      <td>...</td>\n",
       "      <td>...</td>\n",
       "      <td>...</td>\n",
       "      <td>...</td>\n",
       "      <td>...</td>\n",
       "      <td>...</td>\n",
       "      <td>...</td>\n",
       "      <td>...</td>\n",
       "      <td>...</td>\n",
       "    </tr>\n",
       "    <tr>\n",
       "      <th>32303799</th>\n",
       "      <td>3265389</td>\n",
       "      <td>51346</td>\n",
       "      <td>4</td>\n",
       "      <td>1</td>\n",
       "      <td>17</td>\n",
       "      <td>13.0</td>\n",
       "      <td>False</td>\n",
       "      <td>33664</td>\n",
       "      <td>2</td>\n",
       "      <td>1</td>\n",
       "      <td>...</td>\n",
       "      <td>nan</td>\n",
       "      <td>Gould</td>\n",
       "      <td>Male</td>\n",
       "      <td>Rhode Island</td>\n",
       "      <td>58</td>\n",
       "      <td>1/25/2019</td>\n",
       "      <td>1</td>\n",
       "      <td>married</td>\n",
       "      <td>207497</td>\n",
       "      <td>both</td>\n",
       "    </tr>\n",
       "    <tr>\n",
       "      <th>32307882</th>\n",
       "      <td>1179092</td>\n",
       "      <td>131671</td>\n",
       "      <td>12</td>\n",
       "      <td>4</td>\n",
       "      <td>9</td>\n",
       "      <td>15.0</td>\n",
       "      <td>False</td>\n",
       "      <td>33664</td>\n",
       "      <td>1</td>\n",
       "      <td>0</td>\n",
       "      <td>...</td>\n",
       "      <td>Diana</td>\n",
       "      <td>Hansen</td>\n",
       "      <td>Female</td>\n",
       "      <td>Rhode Island</td>\n",
       "      <td>35</td>\n",
       "      <td>8/4/2018</td>\n",
       "      <td>0</td>\n",
       "      <td>single</td>\n",
       "      <td>86490</td>\n",
       "      <td>both</td>\n",
       "    </tr>\n",
       "    <tr>\n",
       "      <th>32310810</th>\n",
       "      <td>1226705</td>\n",
       "      <td>39667</td>\n",
       "      <td>7</td>\n",
       "      <td>2</td>\n",
       "      <td>15</td>\n",
       "      <td>20.0</td>\n",
       "      <td>False</td>\n",
       "      <td>33664</td>\n",
       "      <td>14</td>\n",
       "      <td>0</td>\n",
       "      <td>...</td>\n",
       "      <td>Johnny</td>\n",
       "      <td>Colon</td>\n",
       "      <td>Male</td>\n",
       "      <td>Rhode Island</td>\n",
       "      <td>78</td>\n",
       "      <td>5/8/2019</td>\n",
       "      <td>2</td>\n",
       "      <td>married</td>\n",
       "      <td>195077</td>\n",
       "      <td>both</td>\n",
       "    </tr>\n",
       "    <tr>\n",
       "      <th>32330048</th>\n",
       "      <td>3000037</td>\n",
       "      <td>95105</td>\n",
       "      <td>2</td>\n",
       "      <td>4</td>\n",
       "      <td>19</td>\n",
       "      <td>22.0</td>\n",
       "      <td>False</td>\n",
       "      <td>33664</td>\n",
       "      <td>4</td>\n",
       "      <td>0</td>\n",
       "      <td>...</td>\n",
       "      <td>Catherine</td>\n",
       "      <td>Browning</td>\n",
       "      <td>Female</td>\n",
       "      <td>South Carolina</td>\n",
       "      <td>48</td>\n",
       "      <td>1/18/2017</td>\n",
       "      <td>2</td>\n",
       "      <td>married</td>\n",
       "      <td>398880</td>\n",
       "      <td>both</td>\n",
       "    </tr>\n",
       "    <tr>\n",
       "      <th>32330049</th>\n",
       "      <td>2741225</td>\n",
       "      <td>95105</td>\n",
       "      <td>4</td>\n",
       "      <td>5</td>\n",
       "      <td>12</td>\n",
       "      <td>2.0</td>\n",
       "      <td>False</td>\n",
       "      <td>33664</td>\n",
       "      <td>3</td>\n",
       "      <td>1</td>\n",
       "      <td>...</td>\n",
       "      <td>Catherine</td>\n",
       "      <td>Browning</td>\n",
       "      <td>Female</td>\n",
       "      <td>South Carolina</td>\n",
       "      <td>48</td>\n",
       "      <td>1/18/2017</td>\n",
       "      <td>2</td>\n",
       "      <td>married</td>\n",
       "      <td>398880</td>\n",
       "      <td>both</td>\n",
       "    </tr>\n",
       "  </tbody>\n",
       "</table>\n",
       "<p>5127 rows × 33 columns</p>\n",
       "</div>"
      ],
      "text/plain": [
       "          order_id  user_id  order_number  orders_day_of_week  \\\n",
       "7805       1435153     1519            26                   2   \n",
       "7806       1066435     1519            32                   3   \n",
       "15143      1697208     2409            33                   1   \n",
       "20264       965345     3531            27                   2   \n",
       "20497      2943740     3793             1                   2   \n",
       "...            ...      ...           ...                 ...   \n",
       "32303799   3265389    51346             4                   1   \n",
       "32307882   1179092   131671            12                   4   \n",
       "32310810   1226705    39667             7                   2   \n",
       "32330048   3000037    95105             2                   4   \n",
       "32330049   2741225    95105             4                   5   \n",
       "\n",
       "          order_hour_of_day  days_since_prior_order  new_customer  product_id  \\\n",
       "7805                     11                     6.0         False       21553   \n",
       "7806                     10                     5.0         False       21553   \n",
       "15143                    19                     5.0         False       21553   \n",
       "20264                    19                     8.0         False       33664   \n",
       "20497                     9                     NaN          True       21553   \n",
       "...                     ...                     ...           ...         ...   \n",
       "32303799                 17                    13.0         False       33664   \n",
       "32307882                  9                    15.0         False       33664   \n",
       "32310810                 15                    20.0         False       33664   \n",
       "32330048                 19                    22.0         False       33664   \n",
       "32330049                 12                     2.0         False       33664   \n",
       "\n",
       "          add_to_cart_order  reordered  ... first_name  last_name  gender  \\\n",
       "7805                     15          0  ...      Craig      Clark    Male   \n",
       "7806                     28          1  ...      Craig      Clark    Male   \n",
       "15143                     1          0  ...     Nicole   Odonnell  Female   \n",
       "20264                     2          0  ...      Alice    Compton  Female   \n",
       "20497                     3          0  ...      Jerry      Allen    Male   \n",
       "...                     ...        ...  ...        ...        ...     ...   \n",
       "32303799                  2          1  ...        nan      Gould    Male   \n",
       "32307882                  1          0  ...      Diana     Hansen  Female   \n",
       "32310810                 14          0  ...     Johnny      Colon    Male   \n",
       "32330048                  4          0  ...  Catherine   Browning  Female   \n",
       "32330049                  3          1  ...  Catherine   Browning  Female   \n",
       "\n",
       "                   state age date_joined  n_dependants        fam_status  \\\n",
       "7805        Rhode Island  68    3/4/2020             0  divorced/widowed   \n",
       "7806        Rhode Island  68    3/4/2020             0  divorced/widowed   \n",
       "15143             Hawaii  55  11/11/2018             2           married   \n",
       "20264             Hawaii  80   10/6/2019             2           married   \n",
       "20497          Louisiana  59   8/23/2019             3           married   \n",
       "...                  ...  ..         ...           ...               ...   \n",
       "32303799    Rhode Island  58   1/25/2019             1           married   \n",
       "32307882    Rhode Island  35    8/4/2018             0            single   \n",
       "32310810    Rhode Island  78    5/8/2019             2           married   \n",
       "32330048  South Carolina  48   1/18/2017             2           married   \n",
       "32330049  South Carolina  48   1/18/2017             2           married   \n",
       "\n",
       "          income _merge  \n",
       "7805      177864   both  \n",
       "7806      177864   both  \n",
       "15143     230074   both  \n",
       "20264     233776   both  \n",
       "20497     182933   both  \n",
       "...          ...    ...  \n",
       "32303799  207497   both  \n",
       "32307882   86490   both  \n",
       "32310810  195077   both  \n",
       "32330048  398880   both  \n",
       "32330049  398880   both  \n",
       "\n",
       "[5127 rows x 33 columns]"
      ]
     },
     "execution_count": 14,
     "metadata": {},
     "output_type": "execute_result"
    }
   ],
   "source": [
    "df_ords_prods_cust_merged.loc[df_ords_prods_cust_merged['prices'] > 100]"
   ]
  },
  {
   "cell_type": "code",
   "execution_count": 15,
   "id": "c00cf442",
   "metadata": {},
   "outputs": [
    {
     "data": {
      "text/plain": [
       "Index(['order_id', 'user_id', 'order_number', 'orders_day_of_week',\n",
       "       'order_hour_of_day', 'days_since_prior_order', 'new_customer',\n",
       "       'product_id', 'add_to_cart_order', 'reordered', 'product_name',\n",
       "       'aisle_id', 'department_id', 'prices', 'price_range',\n",
       "       'busiest_period_of_day', 'max_order', 'loyalty_flag', 'user_spending',\n",
       "       'spending_flag', 'median_prior_order', 'order_frequency_flag',\n",
       "       'busiest_days', 'first_name', 'last_name', 'gender', 'state', 'age',\n",
       "       'date_joined', 'n_dependants', 'fam_status', 'income', '_merge'],\n",
       "      dtype='object')"
      ]
     },
     "execution_count": 15,
     "metadata": {},
     "output_type": "execute_result"
    }
   ],
   "source": [
    "df_ords_prods_cust_merged.columns"
   ]
  },
  {
   "cell_type": "code",
   "execution_count": 16,
   "id": "78601321",
   "metadata": {},
   "outputs": [],
   "source": [
    "# Marking any prices > 100 as NaNs\n",
    "df_ords_prods_cust_merged.loc[df_ords_prods_cust_merged['prices'] >100, 'prices'] = np.nan"
   ]
  },
  {
   "cell_type": "code",
   "execution_count": 17,
   "id": "426bc557",
   "metadata": {},
   "outputs": [
    {
     "data": {
      "text/plain": [
       "25.0"
      ]
     },
     "execution_count": 17,
     "metadata": {},
     "output_type": "execute_result"
    }
   ],
   "source": [
    "df_ords_prods_cust_merged['prices'].max()"
   ]
  },
  {
   "cell_type": "code",
   "execution_count": 19,
   "id": "380ad0c2",
   "metadata": {},
   "outputs": [
    {
     "data": {
      "image/png": "[encoded data removed]",
      "text/plain": [
       "<Figure size 432x288 with 1 Axes>"
      ]
     },
     "metadata": {
      "needs_background": "light"
     },
     "output_type": "display_data"
    }
   ],
   "source": [
    "# Creating histogram\n",
    "hist_2 = df_ords_prods_cust_merged['prices'].plot.hist(bins = 70)"
   ]
  },
  {
   "cell_type": "markdown",
   "id": "853d7909",
   "metadata": {},
   "source": [
    "### 03. Sampling data for line chart"
   ]
  },
  {
   "cell_type": "code",
   "execution_count": 20,
   "id": "05c9fe72",
   "metadata": {},
   "outputs": [],
   "source": [
    "# Setting a seed\n",
    "np.random.seed(4)"
   ]
  },
  {
   "cell_type": "code",
   "execution_count": 21,
   "id": "cec467d6",
   "metadata": {},
   "outputs": [],
   "source": [
    "dev = np.random.rand(len(df_ords_prods_cust_merged)) <= 0.7"
   ]
  },
  {
   "cell_type": "code",
   "execution_count": 22,
   "id": "9dbc1820",
   "metadata": {},
   "outputs": [
    {
     "data": {
      "text/plain": [
       "array([False,  True, False, ...,  True,  True,  True])"
      ]
     },
     "execution_count": 22,
     "metadata": {},
     "output_type": "execute_result"
    }
   ],
   "source": [
    "dev"
   ]
  },
  {
   "cell_type": "code",
   "execution_count": 23,
   "id": "ddfcf0a8",
   "metadata": {},
   "outputs": [],
   "source": [
    "big = df_ords_prods_cust_merged[dev]"
   ]
  },
  {
   "cell_type": "code",
   "execution_count": 24,
   "id": "740de75c",
   "metadata": {},
   "outputs": [],
   "source": [
    "small = df_ords_prods_cust_merged[~dev]"
   ]
  },
  {
   "cell_type": "code",
   "execution_count": 25,
   "id": "9a755a42",
   "metadata": {},
   "outputs": [
    {
     "data": {
      "text/plain": [
       "32404859"
      ]
     },
     "execution_count": 25,
     "metadata": {},
     "output_type": "execute_result"
    }
   ],
   "source": [
    "len(df_ords_prods_cust_merged)"
   ]
  },
  {
   "cell_type": "code",
   "execution_count": 26,
   "id": "2b39dd91",
   "metadata": {},
   "outputs": [
    {
     "data": {
      "text/plain": [
       "32404859"
      ]
     },
     "execution_count": 26,
     "metadata": {},
     "output_type": "execute_result"
    }
   ],
   "source": [
    "len(big) + len(small)"
   ]
  },
  {
   "cell_type": "code",
   "execution_count": 27,
   "id": "fa0bab9e",
   "metadata": {},
   "outputs": [],
   "source": [
    "df_2 = small[['orders_day_of_week','prices']]"
   ]
  },
  {
   "cell_type": "code",
   "execution_count": 28,
   "id": "aceeec00",
   "metadata": {},
   "outputs": [
    {
     "data": {
      "image/png": "[encoded data removed]",
      "text/plain": [
       "<Figure size 432x288 with 1 Axes>"
      ]
     },
     "metadata": {
      "needs_background": "light"
     },
     "output_type": "display_data"
    }
   ],
   "source": [
    "# Create line chart\n",
    "line = sns.lineplot(data = df_2, x = 'orders_day_of_week',y = 'prices')"
   ]
  },
  {
   "cell_type": "markdown",
   "id": "3311340c",
   "metadata": {},
   "source": [
    "### 04. Answer to questions"
   ]
  },
  {
   "cell_type": "markdown",
   "id": "14e56081",
   "metadata": {},
   "source": [
    "### Q2. You need to provide the Instacart senior stakeholders with descriptive findings about sales. Create a histogram of the “order_hour_of_day” column. "
   ]
  },
  {
   "cell_type": "code",
   "execution_count": 29,
   "id": "7b50d5e3",
   "metadata": {},
   "outputs": [
    {
     "data": {
      "text/plain": [
       "count    3.240486e+07\n",
       "mean     1.342515e+01\n",
       "std      4.246380e+00\n",
       "min      0.000000e+00\n",
       "25%      1.000000e+01\n",
       "50%      1.300000e+01\n",
       "75%      1.600000e+01\n",
       "max      2.300000e+01\n",
       "Name: order_hour_of_day, dtype: float64"
      ]
     },
     "execution_count": 29,
     "metadata": {},
     "output_type": "execute_result"
    }
   ],
   "source": [
    "# Descriptive statistics for 'order_hour_of_day' column\n",
    "df_ords_prods_cust_merged['order_hour_of_day'].describe()"
   ]
  },
  {
   "cell_type": "code",
   "execution_count": 31,
   "id": "8ab908fd",
   "metadata": {},
   "outputs": [
    {
     "data": {
      "text/plain": [
       "0      218769\n",
       "1      115700\n",
       "2       69375\n",
       "3       51281\n",
       "4       53242\n",
       "5       87961\n",
       "6      290493\n",
       "7      891054\n",
       "8     1718118\n",
       "9     2454203\n",
       "10    2761760\n",
       "11    2736140\n",
       "12    2618532\n",
       "13    2660954\n",
       "14    2689136\n",
       "15    2662144\n",
       "16    2535202\n",
       "17    2087654\n",
       "18    1636502\n",
       "19    1258305\n",
       "20     976156\n",
       "21     795637\n",
       "22     634225\n",
       "23     402316\n",
       "Name: order_hour_of_day, dtype: int64"
      ]
     },
     "execution_count": 31,
     "metadata": {},
     "output_type": "execute_result"
    }
   ],
   "source": [
    "df_ords_prods_cust_merged['order_hour_of_day'].value_counts().sort_index()"
   ]
  },
  {
   "cell_type": "code",
   "execution_count": 32,
   "id": "dddda2e2",
   "metadata": {},
   "outputs": [
    {
     "data": {
      "image/png": "[encoded data removed]",
      "text/plain": [
       "<Figure size 432x288 with 1 Axes>"
      ]
     },
     "metadata": {
      "needs_background": "light"
     },
     "output_type": "display_data"
    }
   ],
   "source": [
    "# Create histogram for 'order_hour_of_day' column\n",
    "hist_order_hour_of_day = df_ords_prods_cust_merged['order_hour_of_day'].plot.hist(bins = 24)"
   ]
  },
  {
   "cell_type": "markdown",
   "id": "2f457fe9",
   "metadata": {},
   "source": [
    "### Q3. In a markdown cell beneath your histogram, describe what the histogram demonstrates. \n",
    "### Answer: It means most orders are made at 10am (10h). Peak ordering time is from 10am - 4pm (10-16h). The least popular time is 3am. "
   ]
  },
  {
   "cell_type": "markdown",
   "id": "bcf2fd39",
   "metadata": {},
   "source": [
    "### Q4. The marketing team is curious about the distribution of orders among customers in terms of loyalty. Create a bar chart from the “loyalty_flag” column."
   ]
  },
  {
   "cell_type": "code",
   "execution_count": 33,
   "id": "d0259bd5",
   "metadata": {},
   "outputs": [
    {
     "data": {
      "text/plain": [
       "count             32404859\n",
       "unique                   3\n",
       "top       Regular customer\n",
       "freq              15876776\n",
       "Name: loyalty_flag, dtype: object"
      ]
     },
     "execution_count": 33,
     "metadata": {},
     "output_type": "execute_result"
    }
   ],
   "source": [
    "# Descriptive statistics for 'loyalty_flag' column\n",
    "df_ords_prods_cust_merged['loyalty_flag'].describe()"
   ]
  },
  {
   "cell_type": "code",
   "execution_count": 34,
   "id": "330df1db",
   "metadata": {},
   "outputs": [
    {
     "data": {
      "text/plain": [
       "Regular customer    15876776\n",
       "Loyal customer      10284093\n",
       "New customer         6243990\n",
       "Name: loyalty_flag, dtype: int64"
      ]
     },
     "execution_count": 34,
     "metadata": {},
     "output_type": "execute_result"
    }
   ],
   "source": [
    "df_ords_prods_cust_merged['loyalty_flag'].value_counts()"
   ]
  },
  {
   "cell_type": "code",
   "execution_count": 35,
   "id": "b30dbab0",
   "metadata": {
    "scrolled": true
   },
   "outputs": [
    {
     "data": {
      "text/plain": [
       "<AxesSubplot:>"
      ]
     },
     "execution_count": 35,
     "metadata": {},
     "output_type": "execute_result"
    },
    {
     "data": {
      "image/png": "[encoded data removed]",
      "text/plain": [
       "<Figure size 432x288 with 1 Axes>"
      ]
     },
     "metadata": {
      "needs_background": "light"
     },
     "output_type": "display_data"
    }
   ],
   "source": [
    "# Create bar chart for 'loyalty_flag'\n",
    "df_ords_prods_cust_merged['loyalty_flag'].value_counts().plot.bar()"
   ]
  },
  {
   "cell_type": "code",
   "execution_count": 58,
   "id": "28115afc",
   "metadata": {},
   "outputs": [
    {
     "data": {
      "image/png": "[encoded data removed]",
      "text/plain": [
       "<Figure size 432x288 with 1 Axes>"
      ]
     },
     "execution_count": 58,
     "metadata": {},
     "output_type": "execute_result"
    }
   ],
   "source": [
    "bar.figure"
   ]
  },
  {
   "cell_type": "code",
   "execution_count": 59,
   "id": "f3b609f2",
   "metadata": {},
   "outputs": [
    {
     "data": {
      "image/png": "[encoded data removed]",
      "text/plain": [
       "<Figure size 432x288 with 1 Axes>"
      ]
     },
     "metadata": {
      "needs_background": "light"
     },
     "output_type": "display_data"
    }
   ],
   "source": [
    "bar = df_ords_prods_cust_merged['loyalty_flag'].value_counts().plot.bar()"
   ]
  },
  {
   "cell_type": "code",
   "execution_count": 60,
   "id": "16ff7a59",
   "metadata": {},
   "outputs": [
    {
     "data": {
      "image/png": "[encoded data removed]",
      "text/plain": [
       "<Figure size 432x288 with 1 Axes>"
      ]
     },
     "execution_count": 60,
     "metadata": {},
     "output_type": "execute_result"
    }
   ],
   "source": [
    "bar.figure"
   ]
  },
  {
   "cell_type": "markdown",
   "id": "c30124a8",
   "metadata": {},
   "source": [
    "### Q5. Check whether there’s a difference in expenditure (the “prices” column) depending on the hour of the day. (Hint: To check this, you need to use an accurate sample for your line chart!)"
   ]
  },
  {
   "cell_type": "markdown",
   "id": "43dd90bf",
   "metadata": {},
   "source": [
    "### Creating a sample for line chart"
   ]
  },
  {
   "cell_type": "code",
   "execution_count": 36,
   "id": "b41f09b8",
   "metadata": {},
   "outputs": [],
   "source": [
    "# Setting a seed\n",
    "np.random.seed(4)"
   ]
  },
  {
   "cell_type": "code",
   "execution_count": 37,
   "id": "1e4ffd8e",
   "metadata": {},
   "outputs": [],
   "source": [
    "dev = np.random.rand(len(df_ords_prods_cust_merged)) <= 0.7"
   ]
  },
  {
   "cell_type": "code",
   "execution_count": 38,
   "id": "c5ea4840",
   "metadata": {},
   "outputs": [
    {
     "data": {
      "text/plain": [
       "array([False,  True, False, ...,  True,  True,  True])"
      ]
     },
     "execution_count": 38,
     "metadata": {},
     "output_type": "execute_result"
    }
   ],
   "source": [
    "dev"
   ]
  },
  {
   "cell_type": "code",
   "execution_count": 39,
   "id": "659840da",
   "metadata": {},
   "outputs": [],
   "source": [
    "big = df_ords_prods_cust_merged[dev]"
   ]
  },
  {
   "cell_type": "code",
   "execution_count": 40,
   "id": "e48f4372",
   "metadata": {},
   "outputs": [],
   "source": [
    "small = df_ords_prods_cust_merged[~dev]"
   ]
  },
  {
   "cell_type": "code",
   "execution_count": 41,
   "id": "7b1c913d",
   "metadata": {},
   "outputs": [
    {
     "data": {
      "text/plain": [
       "32404859"
      ]
     },
     "execution_count": 41,
     "metadata": {},
     "output_type": "execute_result"
    }
   ],
   "source": [
    "len(df_ords_prods_cust_merged)"
   ]
  },
  {
   "cell_type": "code",
   "execution_count": 42,
   "id": "98f2ba05",
   "metadata": {},
   "outputs": [
    {
     "data": {
      "text/plain": [
       "32404859"
      ]
     },
     "execution_count": 42,
     "metadata": {},
     "output_type": "execute_result"
    }
   ],
   "source": [
    "len(big) + len(small)"
   ]
  },
  {
   "cell_type": "code",
   "execution_count": 43,
   "id": "bf784130",
   "metadata": {},
   "outputs": [],
   "source": [
    "df_3 = small[['order_hour_of_day','prices']]"
   ]
  },
  {
   "cell_type": "code",
   "execution_count": 44,
   "id": "e7b592fd",
   "metadata": {
    "scrolled": false
   },
   "outputs": [
    {
     "data": {
      "image/png": "[encoded data removed]",
      "text/plain": [
       "<Figure size 432x288 with 1 Axes>"
      ]
     },
     "metadata": {
      "needs_background": "light"
     },
     "output_type": "display_data"
    }
   ],
   "source": [
    "# Create line chart\n",
    "line = sns.lineplot(data = df_3, x = 'order_hour_of_day',y = 'prices')"
   ]
  },
  {
   "cell_type": "code",
   "execution_count": 66,
   "id": "57b33a67",
   "metadata": {},
   "outputs": [
    {
     "data": {
      "image/png": "[encoded data removed]",
      "text/plain": [
       "<Figure size 432x288 with 1 Axes>"
      ]
     },
     "metadata": {
      "needs_background": "light"
     },
     "output_type": "display_data"
    }
   ],
   "source": [
    "line_2 = sns.lineplot(data = df_3, x = 'order_hour_of_day',y = 'prices')"
   ]
  },
  {
   "cell_type": "markdown",
   "id": "68642d43",
   "metadata": {},
   "source": [
    "### Q6. Now that you have information about customers, you need to conduct some exploratory analysis of customer demographics to inform the targeted marketing campaigns. First, determine whether there’s a connection between age and family situation by creating a line chart exploring the connections between age and number of dependents"
   ]
  },
  {
   "cell_type": "code",
   "execution_count": 45,
   "id": "57719cb8",
   "metadata": {},
   "outputs": [
    {
     "data": {
      "text/plain": [
       "count    3.240486e+07\n",
       "mean     4.946527e+01\n",
       "std      1.848558e+01\n",
       "min      1.800000e+01\n",
       "25%      3.300000e+01\n",
       "50%      4.900000e+01\n",
       "75%      6.500000e+01\n",
       "max      8.100000e+01\n",
       "Name: age, dtype: float64"
      ]
     },
     "execution_count": 45,
     "metadata": {},
     "output_type": "execute_result"
    }
   ],
   "source": [
    "# Descriptive statistics for age\n",
    "df_ords_prods_cust_merged['age'].describe()"
   ]
  },
  {
   "cell_type": "code",
   "execution_count": 46,
   "id": "9e8e0306",
   "metadata": {},
   "outputs": [
    {
     "data": {
      "text/plain": [
       "49    531360\n",
       "79    529742\n",
       "48    529728\n",
       "31    528551\n",
       "64    528009\n",
       "       ...  \n",
       "60    484416\n",
       "36    483812\n",
       "66    476219\n",
       "41    475225\n",
       "25    472188\n",
       "Name: age, Length: 64, dtype: int64"
      ]
     },
     "execution_count": 46,
     "metadata": {},
     "output_type": "execute_result"
    }
   ],
   "source": [
    "df_ords_prods_cust_merged['age'].value_counts()"
   ]
  },
  {
   "cell_type": "code",
   "execution_count": 47,
   "id": "b8082147",
   "metadata": {},
   "outputs": [
    {
     "data": {
      "text/plain": [
       "count    3.240486e+07\n",
       "mean     1.501896e+00\n",
       "std      1.118865e+00\n",
       "min      0.000000e+00\n",
       "25%      1.000000e+00\n",
       "50%      2.000000e+00\n",
       "75%      3.000000e+00\n",
       "max      3.000000e+00\n",
       "Name: n_dependants, dtype: float64"
      ]
     },
     "execution_count": 47,
     "metadata": {},
     "output_type": "execute_result"
    }
   ],
   "source": [
    "# Descriptive statistics for n_dependants\n",
    "df_ords_prods_cust_merged['n_dependants'].describe()"
   ]
  },
  {
   "cell_type": "code",
   "execution_count": 48,
   "id": "6f653b06",
   "metadata": {},
   "outputs": [
    {
     "data": {
      "text/plain": [
       "3    8135109\n",
       "0    8097503\n",
       "2    8091143\n",
       "1    8081104\n",
       "Name: n_dependants, dtype: int64"
      ]
     },
     "execution_count": 48,
     "metadata": {},
     "output_type": "execute_result"
    }
   ],
   "source": [
    "df_ords_prods_cust_merged['n_dependants'].value_counts()"
   ]
  },
  {
   "cell_type": "code",
   "execution_count": 49,
   "id": "6f7969dd",
   "metadata": {},
   "outputs": [],
   "source": [
    "df_4 = small[['n_dependants','age']]"
   ]
  },
  {
   "cell_type": "code",
   "execution_count": 51,
   "id": "2e2fb743",
   "metadata": {},
   "outputs": [
    {
     "data": {
      "image/png": "[encoded data removed]",
      "text/plain": [
       "<Figure size 432x288 with 1 Axes>"
      ]
     },
     "metadata": {
      "needs_background": "light"
     },
     "output_type": "display_data"
    }
   ],
   "source": [
    "# Create line chart\n",
    "line = sns.lineplot(data = df_4, x = 'age',y = 'n_dependants')"
   ]
  },
  {
   "cell_type": "code",
   "execution_count": 54,
   "id": "1a11d069",
   "metadata": {},
   "outputs": [],
   "source": [
    "# Changing 'n_dependants' to a integer\n",
    "df_ords_prods_cust_merged['n_dependants'] = df_ords_prods_cust_merged['n_dependants'].astype('int')"
   ]
  },
  {
   "cell_type": "code",
   "execution_count": 55,
   "id": "48340e86",
   "metadata": {},
   "outputs": [
    {
     "data": {
      "image/png": "[encoded data removed]",
      "text/plain": [
       "<Figure size 432x288 with 1 Axes>"
      ]
     },
     "metadata": {
      "needs_background": "light"
     },
     "output_type": "display_data"
    }
   ],
   "source": [
    "# Create line chart again with 'n_dependants' as integer\n",
    "line = sns.lineplot(data = df_4, x = 'age',y = 'n_dependants')"
   ]
  },
  {
   "cell_type": "markdown",
   "id": "b1ededf8",
   "metadata": {},
   "source": [
    "### Q6. In a markdown cell beneath your line chart, describe what the line chart shows."
   ]
  },
  {
   "cell_type": "markdown",
   "id": "3f5d02e2",
   "metadata": {},
   "source": [
    "### Answer: It shows there is no real clear connection between age and number of dependants. More exploratory analysis is needed."
   ]
  },
  {
   "cell_type": "markdown",
   "id": "b7882c55",
   "metadata": {},
   "source": [
    "### Q7. You’ll also need to explore whether there’s a connection between age and spending power (income). To visualize this relationship, create a scatterplot using the sns.scatterplot() function. "
   ]
  },
  {
   "cell_type": "code",
   "execution_count": 56,
   "id": "9c273717",
   "metadata": {},
   "outputs": [
    {
     "data": {
      "text/plain": [
       "<AxesSubplot:xlabel='age', ylabel='income'>"
      ]
     },
     "execution_count": 56,
     "metadata": {},
     "output_type": "execute_result"
    },
    {
     "data": {
      "image/png": "[encoded data removed]",
      "text/plain": [
       "<Figure size 432x288 with 1 Axes>"
      ]
     },
     "metadata": {
      "needs_background": "light"
     },
     "output_type": "display_data"
    }
   ],
   "source": [
    "# Create scatterplot\n",
    "sns.scatterplot(x = 'age', y = 'income',data = df_ords_prods_cust_merged)"
   ]
  },
  {
   "cell_type": "code",
   "execution_count": 68,
   "id": "29e24916",
   "metadata": {},
   "outputs": [
    {
     "data": {
      "image/png": "[encoded data removed]",
      "text/plain": [
       "<Figure size 432x288 with 1 Axes>"
      ]
     },
     "metadata": {
      "needs_background": "light"
     },
     "output_type": "display_data"
    }
   ],
   "source": [
    "scatterplot = sns.scatterplot(x = 'age', y = 'income',data = df_ords_prods_cust_merged)"
   ]
  },
  {
   "cell_type": "markdown",
   "id": "1bae2371",
   "metadata": {},
   "source": [
    "### Q7. In a markdown cell beneath your scatterplot, describe what the scatterplot shows."
   ]
  },
  {
   "cell_type": "markdown",
   "id": "310cec2d",
   "metadata": {},
   "source": [
    "### Answer: This shows after age 40, customer spending power/income increases."
   ]
  },
  {
   "cell_type": "markdown",
   "id": "a7729714",
   "metadata": {},
   "source": [
    "### 05. Exporting Visualizations"
   ]
  },
  {
   "cell_type": "code",
   "execution_count": 57,
   "id": "1fddcff0",
   "metadata": {},
   "outputs": [],
   "source": [
    "# Exporting histogram\n",
    "hist_order_hour_of_day.figure.savefig(os.path.join(path, '04_Analysis','Visualizations', 'hist_order_hour_of_day.png'))"
   ]
  },
  {
   "cell_type": "code",
   "execution_count": 61,
   "id": "0533cac6",
   "metadata": {},
   "outputs": [],
   "source": [
    "# Exporting bar chart\n",
    "bar.figure.savefig(os.path.join(path, '04_Analysis','Visualizations', 'loyalty_flag.png'))"
   ]
  },
  {
   "cell_type": "code",
   "execution_count": 65,
   "id": "64613fd0",
   "metadata": {},
   "outputs": [],
   "source": [
    "# Exporting line chart age and n_depdendants\n",
    "line.figure.savefig(os.path.join(path, '04_Analysis','Visualizations', 'age_and_n_dependants.png'))"
   ]
  },
  {
   "cell_type": "code",
   "execution_count": 67,
   "id": "937a0f66",
   "metadata": {},
   "outputs": [],
   "source": [
    "# Exporting order_hour_of_day and prices\n",
    "line_2.figure.savefig(os.path.join(path, '04_Analysis','Visualizations', 'order_hour_of_day_and_prices.png'))"
   ]
  },
  {
   "cell_type": "code",
   "execution_count": 69,
   "id": "6978d7cd",
   "metadata": {},
   "outputs": [],
   "source": [
    "# Exporting scatterplot age and income\n",
    "scatterplot.figure.savefig(os.path.join(path, '04_Analysis','Visualizations', 'age_income.png'))"
   ]
  }
 ],
 "metadata": {
  "kernelspec": {
   "display_name": "Python 3 (ipykernel)",
   "language": "python",
   "name": "python3"
  },
  "language_info": {
   "codemirror_mode": {
    "name": "ipython",
    "version": 3
   },
   "file_extension": ".py",
   "mimetype": "text/x-python",
   "name": "python",
   "nbconvert_exporter": "python",
   "pygments_lexer": "ipython3",
   "version": "3.9.12"
  }
 },
 "nbformat": 4,
 "nbformat_minor": 5
}
